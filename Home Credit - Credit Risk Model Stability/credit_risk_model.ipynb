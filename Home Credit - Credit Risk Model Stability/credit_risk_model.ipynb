{
 "cells": [
  {
   "cell_type": "code",
   "execution_count": 1,
   "id": "58a30c26",
   "metadata": {
    "_cell_guid": "b1076dfc-b9ad-4769-8c92-a6c4dae69d19",
    "_uuid": "8f2839f25d086af736a60e9eeb907d3b93b6e0e5",
    "execution": {
     "iopub.execute_input": "2024-05-21T11:38:14.424152Z",
     "iopub.status.busy": "2024-05-21T11:38:14.423368Z",
     "iopub.status.idle": "2024-05-21T11:38:15.330102Z",
     "shell.execute_reply": "2024-05-21T11:38:15.326459Z"
    },
    "papermill": {
     "duration": 0.917632,
     "end_time": "2024-05-21T11:38:15.332738",
     "exception": false,
     "start_time": "2024-05-21T11:38:14.415106",
     "status": "completed"
    },
    "tags": []
   },
   "outputs": [
    {
     "name": "stdout",
     "output_type": "stream",
     "text": [
      "/kaggle/input/home-credit-credit-risk-model-stability/sample_submission.csv\n",
      "/kaggle/input/home-credit-credit-risk-model-stability/feature_definitions.csv\n",
      "/kaggle/input/home-credit-credit-risk-model-stability/parquet_files/test/test_deposit_1.parquet\n",
      "/kaggle/input/home-credit-credit-risk-model-stability/parquet_files/test/test_applprev_2.parquet\n",
      "/kaggle/input/home-credit-credit-risk-model-stability/parquet_files/test/test_static_cb_0.parquet\n",
      "/kaggle/input/home-credit-credit-risk-model-stability/parquet_files/test/test_static_0_0.parquet\n",
      "/kaggle/input/home-credit-credit-risk-model-stability/parquet_files/test/test_credit_bureau_a_1_3.parquet\n",
      "/kaggle/input/home-credit-credit-risk-model-stability/parquet_files/test/test_credit_bureau_a_1_2.parquet\n",
      "/kaggle/input/home-credit-credit-risk-model-stability/parquet_files/test/test_tax_registry_b_1.parquet\n",
      "/kaggle/input/home-credit-credit-risk-model-stability/parquet_files/test/test_static_0_2.parquet\n",
      "/kaggle/input/home-credit-credit-risk-model-stability/parquet_files/test/test_credit_bureau_a_2_3.parquet\n",
      "/kaggle/input/home-credit-credit-risk-model-stability/parquet_files/test/test_credit_bureau_a_2_9.parquet\n",
      "/kaggle/input/home-credit-credit-risk-model-stability/parquet_files/test/test_debitcard_1.parquet\n",
      "/kaggle/input/home-credit-credit-risk-model-stability/parquet_files/test/test_credit_bureau_a_1_1.parquet\n",
      "/kaggle/input/home-credit-credit-risk-model-stability/parquet_files/test/test_credit_bureau_a_2_2.parquet\n",
      "/kaggle/input/home-credit-credit-risk-model-stability/parquet_files/test/test_credit_bureau_a_2_11.parquet\n",
      "/kaggle/input/home-credit-credit-risk-model-stability/parquet_files/test/test_applprev_1_2.parquet\n",
      "/kaggle/input/home-credit-credit-risk-model-stability/parquet_files/test/test_credit_bureau_a_2_1.parquet\n",
      "/kaggle/input/home-credit-credit-risk-model-stability/parquet_files/test/test_credit_bureau_a_1_4.parquet\n",
      "/kaggle/input/home-credit-credit-risk-model-stability/parquet_files/test/test_tax_registry_c_1.parquet\n",
      "/kaggle/input/home-credit-credit-risk-model-stability/parquet_files/test/test_applprev_1_0.parquet\n",
      "/kaggle/input/home-credit-credit-risk-model-stability/parquet_files/test/test_tax_registry_a_1.parquet\n",
      "/kaggle/input/home-credit-credit-risk-model-stability/parquet_files/test/test_credit_bureau_a_2_6.parquet\n",
      "/kaggle/input/home-credit-credit-risk-model-stability/parquet_files/test/test_credit_bureau_a_2_5.parquet\n",
      "/kaggle/input/home-credit-credit-risk-model-stability/parquet_files/test/test_credit_bureau_b_1.parquet\n",
      "/kaggle/input/home-credit-credit-risk-model-stability/parquet_files/test/test_other_1.parquet\n",
      "/kaggle/input/home-credit-credit-risk-model-stability/parquet_files/test/test_static_0_1.parquet\n",
      "/kaggle/input/home-credit-credit-risk-model-stability/parquet_files/test/test_credit_bureau_a_2_0.parquet\n",
      "/kaggle/input/home-credit-credit-risk-model-stability/parquet_files/test/test_applprev_1_1.parquet\n",
      "/kaggle/input/home-credit-credit-risk-model-stability/parquet_files/test/test_base.parquet\n",
      "/kaggle/input/home-credit-credit-risk-model-stability/parquet_files/test/test_person_1.parquet\n",
      "/kaggle/input/home-credit-credit-risk-model-stability/parquet_files/test/test_credit_bureau_a_2_7.parquet\n",
      "/kaggle/input/home-credit-credit-risk-model-stability/parquet_files/test/test_credit_bureau_a_2_10.parquet\n",
      "/kaggle/input/home-credit-credit-risk-model-stability/parquet_files/test/test_credit_bureau_b_2.parquet\n",
      "/kaggle/input/home-credit-credit-risk-model-stability/parquet_files/test/test_credit_bureau_a_2_8.parquet\n",
      "/kaggle/input/home-credit-credit-risk-model-stability/parquet_files/test/test_credit_bureau_a_1_0.parquet\n",
      "/kaggle/input/home-credit-credit-risk-model-stability/parquet_files/test/test_credit_bureau_a_2_4.parquet\n",
      "/kaggle/input/home-credit-credit-risk-model-stability/parquet_files/test/test_person_2.parquet\n",
      "/kaggle/input/home-credit-credit-risk-model-stability/parquet_files/train/train_tax_registry_c_1.parquet\n",
      "/kaggle/input/home-credit-credit-risk-model-stability/parquet_files/train/train_static_0_0.parquet\n",
      "/kaggle/input/home-credit-credit-risk-model-stability/parquet_files/train/train_credit_bureau_a_1_3.parquet\n",
      "/kaggle/input/home-credit-credit-risk-model-stability/parquet_files/train/train_credit_bureau_b_2.parquet\n",
      "/kaggle/input/home-credit-credit-risk-model-stability/parquet_files/train/train_applprev_1_1.parquet\n",
      "/kaggle/input/home-credit-credit-risk-model-stability/parquet_files/train/train_static_cb_0.parquet\n",
      "/kaggle/input/home-credit-credit-risk-model-stability/parquet_files/train/train_other_1.parquet\n",
      "/kaggle/input/home-credit-credit-risk-model-stability/parquet_files/train/train_credit_bureau_a_2_6.parquet\n",
      "/kaggle/input/home-credit-credit-risk-model-stability/parquet_files/train/train_tax_registry_a_1.parquet\n",
      "/kaggle/input/home-credit-credit-risk-model-stability/parquet_files/train/train_tax_registry_b_1.parquet\n",
      "/kaggle/input/home-credit-credit-risk-model-stability/parquet_files/train/train_credit_bureau_a_2_1.parquet\n",
      "/kaggle/input/home-credit-credit-risk-model-stability/parquet_files/train/train_person_1.parquet\n",
      "/kaggle/input/home-credit-credit-risk-model-stability/parquet_files/train/train_person_2.parquet\n",
      "/kaggle/input/home-credit-credit-risk-model-stability/parquet_files/train/train_credit_bureau_b_1.parquet\n",
      "/kaggle/input/home-credit-credit-risk-model-stability/parquet_files/train/train_credit_bureau_a_2_0.parquet\n",
      "/kaggle/input/home-credit-credit-risk-model-stability/parquet_files/train/train_credit_bureau_a_2_7.parquet\n",
      "/kaggle/input/home-credit-credit-risk-model-stability/parquet_files/train/train_deposit_1.parquet\n",
      "/kaggle/input/home-credit-credit-risk-model-stability/parquet_files/train/train_debitcard_1.parquet\n",
      "/kaggle/input/home-credit-credit-risk-model-stability/parquet_files/train/train_credit_bureau_a_2_5.parquet\n",
      "/kaggle/input/home-credit-credit-risk-model-stability/parquet_files/train/train_credit_bureau_a_2_2.parquet\n",
      "/kaggle/input/home-credit-credit-risk-model-stability/parquet_files/train/train_credit_bureau_a_2_4.parquet\n",
      "/kaggle/input/home-credit-credit-risk-model-stability/parquet_files/train/train_base.parquet\n",
      "/kaggle/input/home-credit-credit-risk-model-stability/parquet_files/train/train_credit_bureau_a_2_9.parquet\n",
      "/kaggle/input/home-credit-credit-risk-model-stability/parquet_files/train/train_credit_bureau_a_2_3.parquet\n",
      "/kaggle/input/home-credit-credit-risk-model-stability/parquet_files/train/train_applprev_2.parquet\n",
      "/kaggle/input/home-credit-credit-risk-model-stability/parquet_files/train/train_credit_bureau_a_2_10.parquet\n",
      "/kaggle/input/home-credit-credit-risk-model-stability/parquet_files/train/train_credit_bureau_a_2_8.parquet\n",
      "/kaggle/input/home-credit-credit-risk-model-stability/parquet_files/train/train_credit_bureau_a_1_2.parquet\n",
      "/kaggle/input/home-credit-credit-risk-model-stability/parquet_files/train/train_static_0_1.parquet\n",
      "/kaggle/input/home-credit-credit-risk-model-stability/parquet_files/train/train_credit_bureau_a_1_0.parquet\n",
      "/kaggle/input/home-credit-credit-risk-model-stability/parquet_files/train/train_credit_bureau_a_1_1.parquet\n",
      "/kaggle/input/home-credit-credit-risk-model-stability/parquet_files/train/train_applprev_1_0.parquet\n",
      "/kaggle/input/home-credit-credit-risk-model-stability/csv_files/test/test_credit_bureau_a_2_6.csv\n",
      "/kaggle/input/home-credit-credit-risk-model-stability/csv_files/test/test_credit_bureau_a_2_11.csv\n",
      "/kaggle/input/home-credit-credit-risk-model-stability/csv_files/test/test_credit_bureau_a_2_0.csv\n",
      "/kaggle/input/home-credit-credit-risk-model-stability/csv_files/test/test_credit_bureau_a_2_9.csv\n",
      "/kaggle/input/home-credit-credit-risk-model-stability/csv_files/test/test_base.csv\n",
      "/kaggle/input/home-credit-credit-risk-model-stability/csv_files/test/test_credit_bureau_a_1_1.csv\n",
      "/kaggle/input/home-credit-credit-risk-model-stability/csv_files/test/test_credit_bureau_b_2.csv\n",
      "/kaggle/input/home-credit-credit-risk-model-stability/csv_files/test/test_credit_bureau_a_2_10.csv\n",
      "/kaggle/input/home-credit-credit-risk-model-stability/csv_files/test/test_credit_bureau_a_2_4.csv\n",
      "/kaggle/input/home-credit-credit-risk-model-stability/csv_files/test/test_static_0_0.csv\n",
      "/kaggle/input/home-credit-credit-risk-model-stability/csv_files/test/test_static_cb_0.csv\n",
      "/kaggle/input/home-credit-credit-risk-model-stability/csv_files/test/test_credit_bureau_a_2_2.csv\n",
      "/kaggle/input/home-credit-credit-risk-model-stability/csv_files/test/test_credit_bureau_b_1.csv\n",
      "/kaggle/input/home-credit-credit-risk-model-stability/csv_files/test/test_tax_registry_b_1.csv\n",
      "/kaggle/input/home-credit-credit-risk-model-stability/csv_files/test/test_person_2.csv\n",
      "/kaggle/input/home-credit-credit-risk-model-stability/csv_files/test/test_person_1.csv\n",
      "/kaggle/input/home-credit-credit-risk-model-stability/csv_files/test/test_credit_bureau_a_2_8.csv\n",
      "/kaggle/input/home-credit-credit-risk-model-stability/csv_files/test/test_applprev_1_2.csv\n",
      "/kaggle/input/home-credit-credit-risk-model-stability/csv_files/test/test_applprev_1_1.csv\n",
      "/kaggle/input/home-credit-credit-risk-model-stability/csv_files/test/test_credit_bureau_a_1_0.csv\n",
      "/kaggle/input/home-credit-credit-risk-model-stability/csv_files/test/test_applprev_2.csv\n",
      "/kaggle/input/home-credit-credit-risk-model-stability/csv_files/test/test_credit_bureau_a_2_7.csv\n",
      "/kaggle/input/home-credit-credit-risk-model-stability/csv_files/test/test_other_1.csv\n",
      "/kaggle/input/home-credit-credit-risk-model-stability/csv_files/test/test_tax_registry_c_1.csv\n",
      "/kaggle/input/home-credit-credit-risk-model-stability/csv_files/test/test_credit_bureau_a_1_3.csv\n",
      "/kaggle/input/home-credit-credit-risk-model-stability/csv_files/test/test_static_0_2.csv\n",
      "/kaggle/input/home-credit-credit-risk-model-stability/csv_files/test/test_credit_bureau_a_2_5.csv\n",
      "/kaggle/input/home-credit-credit-risk-model-stability/csv_files/test/test_credit_bureau_a_1_2.csv\n",
      "/kaggle/input/home-credit-credit-risk-model-stability/csv_files/test/test_debitcard_1.csv\n",
      "/kaggle/input/home-credit-credit-risk-model-stability/csv_files/test/test_credit_bureau_a_1_4.csv\n",
      "/kaggle/input/home-credit-credit-risk-model-stability/csv_files/test/test_deposit_1.csv\n",
      "/kaggle/input/home-credit-credit-risk-model-stability/csv_files/test/test_static_0_1.csv\n",
      "/kaggle/input/home-credit-credit-risk-model-stability/csv_files/test/test_credit_bureau_a_2_1.csv\n",
      "/kaggle/input/home-credit-credit-risk-model-stability/csv_files/test/test_applprev_1_0.csv\n",
      "/kaggle/input/home-credit-credit-risk-model-stability/csv_files/test/test_tax_registry_a_1.csv\n",
      "/kaggle/input/home-credit-credit-risk-model-stability/csv_files/test/test_credit_bureau_a_2_3.csv\n",
      "/kaggle/input/home-credit-credit-risk-model-stability/csv_files/train/train_credit_bureau_a_1_3.csv\n",
      "/kaggle/input/home-credit-credit-risk-model-stability/csv_files/train/train_static_cb_0.csv\n",
      "/kaggle/input/home-credit-credit-risk-model-stability/csv_files/train/train_applprev_1_0.csv\n",
      "/kaggle/input/home-credit-credit-risk-model-stability/csv_files/train/train_person_2.csv\n",
      "/kaggle/input/home-credit-credit-risk-model-stability/csv_files/train/train_base.csv\n",
      "/kaggle/input/home-credit-credit-risk-model-stability/csv_files/train/train_tax_registry_a_1.csv\n",
      "/kaggle/input/home-credit-credit-risk-model-stability/csv_files/train/train_static_0_0.csv\n",
      "/kaggle/input/home-credit-credit-risk-model-stability/csv_files/train/train_credit_bureau_a_1_0.csv\n",
      "/kaggle/input/home-credit-credit-risk-model-stability/csv_files/train/train_applprev_2.csv\n",
      "/kaggle/input/home-credit-credit-risk-model-stability/csv_files/train/train_credit_bureau_a_2_6.csv\n",
      "/kaggle/input/home-credit-credit-risk-model-stability/csv_files/train/train_credit_bureau_a_1_2.csv\n",
      "/kaggle/input/home-credit-credit-risk-model-stability/csv_files/train/train_person_1.csv\n",
      "/kaggle/input/home-credit-credit-risk-model-stability/csv_files/train/train_credit_bureau_a_1_1.csv\n",
      "/kaggle/input/home-credit-credit-risk-model-stability/csv_files/train/train_tax_registry_c_1.csv\n",
      "/kaggle/input/home-credit-credit-risk-model-stability/csv_files/train/train_credit_bureau_a_2_4.csv\n",
      "/kaggle/input/home-credit-credit-risk-model-stability/csv_files/train/train_credit_bureau_a_2_9.csv\n",
      "/kaggle/input/home-credit-credit-risk-model-stability/csv_files/train/train_credit_bureau_a_2_3.csv\n",
      "/kaggle/input/home-credit-credit-risk-model-stability/csv_files/train/train_credit_bureau_a_2_7.csv\n",
      "/kaggle/input/home-credit-credit-risk-model-stability/csv_files/train/train_credit_bureau_b_2.csv\n",
      "/kaggle/input/home-credit-credit-risk-model-stability/csv_files/train/train_credit_bureau_a_2_2.csv\n",
      "/kaggle/input/home-credit-credit-risk-model-stability/csv_files/train/train_static_0_1.csv\n",
      "/kaggle/input/home-credit-credit-risk-model-stability/csv_files/train/train_deposit_1.csv\n",
      "/kaggle/input/home-credit-credit-risk-model-stability/csv_files/train/train_credit_bureau_a_2_10.csv\n",
      "/kaggle/input/home-credit-credit-risk-model-stability/csv_files/train/train_tax_registry_b_1.csv\n",
      "/kaggle/input/home-credit-credit-risk-model-stability/csv_files/train/train_applprev_1_1.csv\n",
      "/kaggle/input/home-credit-credit-risk-model-stability/csv_files/train/train_credit_bureau_a_2_1.csv\n",
      "/kaggle/input/home-credit-credit-risk-model-stability/csv_files/train/train_credit_bureau_a_2_8.csv\n",
      "/kaggle/input/home-credit-credit-risk-model-stability/csv_files/train/train_credit_bureau_a_2_5.csv\n",
      "/kaggle/input/home-credit-credit-risk-model-stability/csv_files/train/train_credit_bureau_b_1.csv\n",
      "/kaggle/input/home-credit-credit-risk-model-stability/csv_files/train/train_credit_bureau_a_2_0.csv\n",
      "/kaggle/input/home-credit-credit-risk-model-stability/csv_files/train/train_other_1.csv\n",
      "/kaggle/input/home-credit-credit-risk-model-stability/csv_files/train/train_debitcard_1.csv\n"
     ]
    }
   ],
   "source": [
    "# This Python 3 environment comes with many helpful analytics libraries installed\n",
    "# It is defined by the kaggle/python Docker image: https://github.com/kaggle/docker-python\n",
    "# For example, here's several helpful packages to load\n",
    "\n",
    "import numpy as np # linear algebra\n",
    "import pandas as pd # data processing, CSV file I/O (e.g. pd.read_csv)\n",
    "\n",
    "# Input data files are available in the read-only \"../input/\" directory\n",
    "# For example, running this (by clicking run or pressing Shift+Enter) will list all files under the input directory\n",
    "\n",
    "import os\n",
    "for dirname, _, filenames in os.walk('/kaggle/input/home-credit-credit-risk-model-stability'):\n",
    "    for filename in filenames:\n",
    "        print(os.path.join(dirname, filename))\n",
    "\n",
    "# You can write up to 20GB to the current directory (/kaggle/working/) that gets preserved as output when you create a version using \"Save & Run All\" \n",
    "# You can also write temporary files to /kaggle/temp/, but they won't be saved outside of the current session"
   ]
  },
  {
   "cell_type": "code",
   "execution_count": 2,
   "id": "487fee0d",
   "metadata": {
    "execution": {
     "iopub.execute_input": "2024-05-21T11:38:15.348525Z",
     "iopub.status.busy": "2024-05-21T11:38:15.347145Z",
     "iopub.status.idle": "2024-05-21T11:38:17.988242Z",
     "shell.execute_reply": "2024-05-21T11:38:17.987201Z"
    },
    "papermill": {
     "duration": 2.651915,
     "end_time": "2024-05-21T11:38:17.991240",
     "exception": false,
     "start_time": "2024-05-21T11:38:15.339325",
     "status": "completed"
    },
    "tags": []
   },
   "outputs": [],
   "source": [
    "import polars as pl\n",
    "import numpy as np\n",
    "import pandas as pd\n",
    "import lightgbm as lgb\n",
    "from sklearn.model_selection import train_test_split\n",
    "from sklearn.metrics import roc_auc_score \n",
    "\n",
    "dataPath = \"/kaggle/input/home-credit-credit-risk-model-stability/\""
   ]
  },
  {
   "cell_type": "code",
   "execution_count": 3,
   "id": "d2eda0e5",
   "metadata": {
    "execution": {
     "iopub.execute_input": "2024-05-21T11:38:18.006637Z",
     "iopub.status.busy": "2024-05-21T11:38:18.005482Z",
     "iopub.status.idle": "2024-05-21T11:38:36.165986Z",
     "shell.execute_reply": "2024-05-21T11:38:36.165130Z"
    },
    "papermill": {
     "duration": 18.171008,
     "end_time": "2024-05-21T11:38:36.168717",
     "exception": false,
     "start_time": "2024-05-21T11:38:17.997709",
     "status": "completed"
    },
    "tags": []
   },
   "outputs": [],
   "source": [
    "def set_table_dtypes(df: pl.DataFrame) -> pl.DataFrame:\n",
    "    # implement here all desired dtypes for tables\n",
    "    # the following is just an example\n",
    "    for col in df.columns:\n",
    "        # last letter of column name will help you determine the type\n",
    "        if col[-1] in (\"P\", \"A\"):\n",
    "            df = df.with_columns(pl.col(col).cast(pl.Float64).alias(col))\n",
    "\n",
    "    return df\n",
    "\n",
    "def convert_strings(df: pd.DataFrame) -> pd.DataFrame:\n",
    "    for col in df.columns:  \n",
    "        if df[col].dtype.name in ['object', 'string']:\n",
    "            df[col] = df[col].astype(\"string\").astype('category')\n",
    "            current_categories = df[col].cat.categories\n",
    "            new_categories = current_categories.to_list() + [\"Unknown\"]\n",
    "            new_dtype = pd.CategoricalDtype(categories=new_categories, ordered=True)\n",
    "            df[col] = df[col].astype(new_dtype)\n",
    "    return df\n",
    "train_basetable = pl.read_csv(dataPath + \"csv_files/train/train_base.csv\")\n",
    "train_static = pl.concat(\n",
    "    [\n",
    "        pl.read_csv(dataPath + \"csv_files/train/train_static_0_0.csv\").pipe(set_table_dtypes),\n",
    "        pl.read_csv(dataPath + \"csv_files/train/train_static_0_1.csv\").pipe(set_table_dtypes),\n",
    "    ],\n",
    "    how=\"vertical_relaxed\",\n",
    ")\n",
    "train_static_cb = pl.read_csv(dataPath + \"csv_files/train/train_static_cb_0.csv\").pipe(set_table_dtypes)\n",
    "train_person_1 = pl.read_csv(dataPath + \"csv_files/train/train_person_1.csv\").pipe(set_table_dtypes) \n",
    "train_credit_bureau_b_2 = pl.read_csv(dataPath + \"csv_files/train/train_credit_bureau_b_2.csv\").pipe(set_table_dtypes) "
   ]
  },
  {
   "cell_type": "code",
   "execution_count": 4,
   "id": "a050ceb6",
   "metadata": {
    "execution": {
     "iopub.execute_input": "2024-05-21T11:38:36.184029Z",
     "iopub.status.busy": "2024-05-21T11:38:36.183316Z",
     "iopub.status.idle": "2024-05-21T11:39:01.712745Z",
     "shell.execute_reply": "2024-05-21T11:39:01.710582Z"
    },
    "papermill": {
     "duration": 25.545147,
     "end_time": "2024-05-21T11:39:01.720539",
     "exception": false,
     "start_time": "2024-05-21T11:38:36.175392",
     "status": "completed"
    },
    "tags": []
   },
   "outputs": [],
   "source": [
    "train_basetable = pl.read_csv(dataPath + \"csv_files/train/train_base.csv\")\n",
    "train_static = pl.concat(\n",
    "    [\n",
    "        pl.read_csv(dataPath + \"csv_files/train/train_static_0_0.csv\").pipe(set_table_dtypes),\n",
    "        pl.read_csv(dataPath + \"csv_files/train/train_static_0_1.csv\").pipe(set_table_dtypes),\n",
    "    ],\n",
    "    how=\"vertical_relaxed\",\n",
    ")\n",
    "train_static_cb = pl.read_csv(dataPath + \"csv_files/train/train_static_cb_0.csv\").pipe(set_table_dtypes)\n",
    "train_person_1 = pl.read_csv(dataPath + \"csv_files/train/train_person_1.csv\").pipe(set_table_dtypes) \n",
    "train_credit_bureau_b_2 = pl.read_csv(dataPath + \"csv_files/train/train_credit_bureau_b_2.csv\").pipe(set_table_dtypes) "
   ]
  },
  {
   "cell_type": "code",
   "execution_count": 5,
   "id": "1ca0d6c4",
   "metadata": {
    "execution": {
     "iopub.execute_input": "2024-05-21T11:39:01.742337Z",
     "iopub.status.busy": "2024-05-21T11:39:01.741633Z",
     "iopub.status.idle": "2024-05-21T11:39:01.825154Z",
     "shell.execute_reply": "2024-05-21T11:39:01.821456Z"
    },
    "papermill": {
     "duration": 0.097737,
     "end_time": "2024-05-21T11:39:01.830247",
     "exception": false,
     "start_time": "2024-05-21T11:39:01.732510",
     "status": "completed"
    },
    "tags": []
   },
   "outputs": [],
   "source": [
    "test_basetable = pl.read_csv(dataPath + \"csv_files/test/test_base.csv\")\n",
    "test_static = pl.concat(\n",
    "    [\n",
    "        pl.read_csv(dataPath + \"csv_files/test/test_static_0_0.csv\").pipe(set_table_dtypes),\n",
    "        pl.read_csv(dataPath + \"csv_files/test/test_static_0_1.csv\").pipe(set_table_dtypes),\n",
    "        pl.read_csv(dataPath + \"csv_files/test/test_static_0_2.csv\").pipe(set_table_dtypes),\n",
    "    ],\n",
    "    how=\"vertical_relaxed\",\n",
    ")\n",
    "test_static_cb = pl.read_csv(dataPath + \"csv_files/test/test_static_cb_0.csv\").pipe(set_table_dtypes)\n",
    "test_person_1 = pl.read_csv(dataPath + \"csv_files/test/test_person_1.csv\").pipe(set_table_dtypes) \n",
    "test_credit_bureau_b_2 = pl.read_csv(dataPath + \"csv_files/test/test_credit_bureau_b_2.csv\").pipe(set_table_dtypes) "
   ]
  },
  {
   "cell_type": "code",
   "execution_count": 6,
   "id": "c4479396",
   "metadata": {
    "execution": {
     "iopub.execute_input": "2024-05-21T11:39:01.856787Z",
     "iopub.status.busy": "2024-05-21T11:39:01.856348Z",
     "iopub.status.idle": "2024-05-21T11:39:09.707169Z",
     "shell.execute_reply": "2024-05-21T11:39:09.706237Z"
    },
    "papermill": {
     "duration": 7.865417,
     "end_time": "2024-05-21T11:39:09.710439",
     "exception": false,
     "start_time": "2024-05-21T11:39:01.845022",
     "status": "completed"
    },
    "tags": []
   },
   "outputs": [
    {
     "name": "stdout",
     "output_type": "stream",
     "text": [
      "['amtinstpaidbefduel24m_4187115A', 'annuity_780A', 'annuitynextmonth_57A', 'avginstallast24m_3658937A', 'avglnamtstart24m_4525187A', 'avgoutstandbalancel6m_4187114A', 'avgpmtlast12m_4525200A', 'credamount_770A', 'currdebt_22A', 'currdebtcredtyperange_828A', 'disbursedcredamount_1113A', 'downpmt_116A', 'inittransactionamount_650A', 'lastapprcommoditycat_1041M', 'lastapprcommoditytypec_5251766M', 'lastapprcredamount_781A', 'lastcancelreason_561M', 'lastotherinc_902A', 'lastotherlnsexpense_631A', 'lastrejectcommoditycat_161M', 'lastrejectcommodtypec_5251769M', 'lastrejectcredamount_222A', 'lastrejectreason_759M', 'lastrejectreasonclient_4145040M', 'maininc_215A', 'maxannuity_159A', 'maxannuity_4075009A', 'maxdebt4_972A', 'maxinstallast24m_3658928A', 'maxlnamtstart6m_4525199A', 'maxoutstandbalancel12m_4187113A', 'maxpmtlast3m_4525190A', 'previouscontdistrict_112M', 'price_1097A', 'sumoutstandtotal_3546847A', 'sumoutstandtotalest_4493215A', 'totaldebt_9A', 'totalsettled_863A', 'totinstallast1m_4525188A']\n",
      "['description_5085714M', 'education_1103M', 'education_88M', 'maritalst_385M', 'maritalst_893M', 'pmtaverage_3A', 'pmtaverage_4527227A', 'pmtaverage_4955615A', 'pmtssum_45A']\n"
     ]
    }
   ],
   "source": [
    "# We need to use aggregation functions in tables with depth > 1, so tables that contain num_group1 column or \n",
    "# also num_group2 column.\n",
    "train_person_1_feats_1 = train_person_1.group_by(\"case_id\").agg(\n",
    "    pl.col(\"mainoccupationinc_384A\").max().alias(\"mainoccupationinc_384A_max\"),\n",
    "    (pl.col(\"incometype_1044T\") == \"SELFEMPLOYED\").max().alias(\"mainoccupationinc_384A_any_selfemployed\")\n",
    ")\n",
    "\n",
    "# Here num_group1=0 has special meaning, it is the person who applied for the loan.\n",
    "train_person_1_feats_2 = train_person_1.select([\"case_id\", \"num_group1\", \"housetype_905L\"]).filter(\n",
    "    pl.col(\"num_group1\") == 0\n",
    ").drop(\"num_group1\").rename({\"housetype_905L\": \"person_housetype\"})\n",
    "\n",
    "# Here we have num_goup1 and num_group2, so we need to aggregate again.\n",
    "train_credit_bureau_b_2_feats = train_credit_bureau_b_2.group_by(\"case_id\").agg(\n",
    "    pl.col(\"pmts_pmtsoverdue_635A\").max().alias(\"pmts_pmtsoverdue_635A_max\"),\n",
    "    (pl.col(\"pmts_dpdvalue_108P\") > 31).max().alias(\"pmts_dpdvalue_108P_over31\")\n",
    ")\n",
    "\n",
    "# We will process in this examples only A-type and M-type columns, so we need to select them.\n",
    "selected_static_cols = []\n",
    "for col in train_static.columns:\n",
    "    if col[-1] in (\"A\", \"M\"):\n",
    "        selected_static_cols.append(col)\n",
    "print(selected_static_cols)\n",
    "\n",
    "selected_static_cb_cols = []\n",
    "for col in train_static_cb.columns:\n",
    "    if col[-1] in (\"A\", \"M\"):\n",
    "        selected_static_cb_cols.append(col)\n",
    "print(selected_static_cb_cols)\n",
    "\n",
    "# Join all tables together.\n",
    "data = train_basetable.join(\n",
    "    train_static.select([\"case_id\"]+selected_static_cols), how=\"left\", on=\"case_id\"\n",
    ").join(\n",
    "    train_static_cb.select([\"case_id\"]+selected_static_cb_cols), how=\"left\", on=\"case_id\"\n",
    ").join(\n",
    "    train_person_1_feats_1, how=\"left\", on=\"case_id\"\n",
    ").join(\n",
    "    train_person_1_feats_2, how=\"left\", on=\"case_id\"\n",
    ").join(\n",
    "    train_credit_bureau_b_2_feats, how=\"left\", on=\"case_id\"\n",
    ")"
   ]
  },
  {
   "cell_type": "code",
   "execution_count": 7,
   "id": "289a5861",
   "metadata": {
    "execution": {
     "iopub.execute_input": "2024-05-21T11:39:09.725719Z",
     "iopub.status.busy": "2024-05-21T11:39:09.725281Z",
     "iopub.status.idle": "2024-05-21T11:39:12.724765Z",
     "shell.execute_reply": "2024-05-21T11:39:12.723495Z"
    },
    "papermill": {
     "duration": 3.010899,
     "end_time": "2024-05-21T11:39:12.728160",
     "exception": false,
     "start_time": "2024-05-21T11:39:09.717261",
     "status": "completed"
    },
    "tags": []
   },
   "outputs": [
    {
     "name": "stdout",
     "output_type": "stream",
     "text": [
      "OrderedDict([('case_id', Int64), ('amount_4527230A', Float64), ('name_4527232M', String), ('num_group1', Int64), ('recorddate_4527225D', String)])\n",
      "OrderedDict([('case_id', Int64), ('amount_4917619A', Float64), ('deductiondate_4917603D', String), ('name_4917606M', String), ('num_group1', Int64)])\n",
      "OrderedDict([('case_id', Int64), ('employername_160M', String), ('num_group1', Int64), ('pmtamount_36A', Float64), ('processingdate_168D', String)])\n"
     ]
    }
   ],
   "source": [
    "tax_regis_a = pl.read_csv(dataPath + \"csv_files/train/train_tax_registry_a_1.csv\").pipe(set_table_dtypes)\n",
    "tax_regis_b = pl.read_csv(dataPath + \"csv_files/train/train_tax_registry_b_1.csv\").pipe(set_table_dtypes)\n",
    "tax_regis_c = pl.read_csv(dataPath + \"csv_files/train/train_tax_registry_c_1.csv\").pipe(set_table_dtypes)\n",
    "\n",
    "print(tax_regis_a.schema)\n",
    "print(tax_regis_b.schema)\n",
    "print(tax_regis_c.schema)"
   ]
  },
  {
   "cell_type": "code",
   "execution_count": 8,
   "id": "a387e8bb",
   "metadata": {
    "execution": {
     "iopub.execute_input": "2024-05-21T11:39:12.746152Z",
     "iopub.status.busy": "2024-05-21T11:39:12.745321Z",
     "iopub.status.idle": "2024-05-21T11:39:12.755972Z",
     "shell.execute_reply": "2024-05-21T11:39:12.754978Z"
    },
    "papermill": {
     "duration": 0.022555,
     "end_time": "2024-05-21T11:39:12.758721",
     "exception": false,
     "start_time": "2024-05-21T11:39:12.736166",
     "status": "completed"
    },
    "tags": []
   },
   "outputs": [],
   "source": [
    "tax_regis_a = tax_regis_a.rename({\"amount_4527230A\": \"amount\", \"name_4527232M\": \"name\", \"recorddate_4527225D\": \"date\"})\n",
    "tax_regis_b = tax_regis_b.rename({\"amount_4917619A\": \"amount\", \"name_4917606M\": \"name\", \"deductiondate_4917603D\": \"date\"})\n",
    "tax_regis_c = tax_regis_c.rename({\"pmtamount_36A\": \"amount\", \"employername_160M\": \"name\", \"processingdate_168D\": \"date\"})\n",
    "\n",
    "tax_regis_a = tax_regis_a.select([\"case_id\", \"amount\", \"name\", \"date\", \"num_group1\"])\n",
    "tax_regis_b = tax_regis_b.select([\"case_id\", \"amount\", \"name\", \"date\", \"num_group1\"])\n",
    "tax_regis_c = tax_regis_c.select([\"case_id\", \"amount\", \"name\", \"date\", \"num_group1\"])"
   ]
  },
  {
   "cell_type": "code",
   "execution_count": 9,
   "id": "72cd92e2",
   "metadata": {
    "execution": {
     "iopub.execute_input": "2024-05-21T11:39:12.780349Z",
     "iopub.status.busy": "2024-05-21T11:39:12.779294Z",
     "iopub.status.idle": "2024-05-21T11:39:13.811650Z",
     "shell.execute_reply": "2024-05-21T11:39:13.810593Z"
    },
    "papermill": {
     "duration": 1.049436,
     "end_time": "2024-05-21T11:39:13.814883",
     "exception": false,
     "start_time": "2024-05-21T11:39:12.765447",
     "status": "completed"
    },
    "tags": []
   },
   "outputs": [],
   "source": [
    "train_tax_registry = pl.concat(\n",
    "    [\n",
    "        tax_regis_a.pipe(set_table_dtypes),\n",
    "        tax_regis_b.pipe(set_table_dtypes),\n",
    "        tax_regis_c.pipe(set_table_dtypes)\n",
    "    ],\n",
    "    how=\"vertical_relaxed\", #세로로 결합\n",
    ")"
   ]
  },
  {
   "cell_type": "code",
   "execution_count": 10,
   "id": "561c817c",
   "metadata": {
    "execution": {
     "iopub.execute_input": "2024-05-21T11:39:13.831422Z",
     "iopub.status.busy": "2024-05-21T11:39:13.831033Z",
     "iopub.status.idle": "2024-05-21T11:39:16.098844Z",
     "shell.execute_reply": "2024-05-21T11:39:16.095171Z"
    },
    "papermill": {
     "duration": 2.285101,
     "end_time": "2024-05-21T11:39:16.107409",
     "exception": false,
     "start_time": "2024-05-21T11:39:13.822308",
     "status": "completed"
    },
    "tags": []
   },
   "outputs": [],
   "source": [
    "sorted_train_tax_registry = train_tax_registry.sort(\"case_id\")"
   ]
  },
  {
   "cell_type": "code",
   "execution_count": 11,
   "id": "c4b78a14",
   "metadata": {
    "execution": {
     "iopub.execute_input": "2024-05-21T11:39:16.157447Z",
     "iopub.status.busy": "2024-05-21T11:39:16.155550Z",
     "iopub.status.idle": "2024-05-21T11:39:28.601479Z",
     "shell.execute_reply": "2024-05-21T11:39:28.598672Z"
    },
    "papermill": {
     "duration": 12.478769,
     "end_time": "2024-05-21T11:39:28.608297",
     "exception": false,
     "start_time": "2024-05-21T11:39:16.129528",
     "status": "completed"
    },
    "tags": []
   },
   "outputs": [],
   "source": [
    "data_1 = data.join(sorted_train_tax_registry, on=\"case_id\", how=\"left\")"
   ]
  },
  {
   "cell_type": "code",
   "execution_count": 12,
   "id": "e89aff52",
   "metadata": {
    "execution": {
     "iopub.execute_input": "2024-05-21T11:39:28.635137Z",
     "iopub.status.busy": "2024-05-21T11:39:28.632702Z",
     "iopub.status.idle": "2024-05-21T11:39:33.118473Z",
     "shell.execute_reply": "2024-05-21T11:39:33.117491Z"
    },
    "papermill": {
     "duration": 4.499252,
     "end_time": "2024-05-21T11:39:33.121522",
     "exception": false,
     "start_time": "2024-05-21T11:39:28.622270",
     "status": "completed"
    },
    "tags": []
   },
   "outputs": [],
   "source": [
    "birth_sex_tmp = pl.read_csv(dataPath + \"csv_files/train/train_person_1.csv\").pipe(set_table_dtypes)\n",
    "selected_columns = ['case_id', 'birth_259D', 'sex_738L']\n",
    "new_df = birth_sex_tmp.select(selected_columns)\n",
    "new_df = new_df.filter(~(pl.col('birth_259D').is_null() & pl.col('sex_738L').is_null()))"
   ]
  },
  {
   "cell_type": "code",
   "execution_count": 13,
   "id": "6e5d8a05",
   "metadata": {
    "execution": {
     "iopub.execute_input": "2024-05-21T11:39:33.136447Z",
     "iopub.status.busy": "2024-05-21T11:39:33.135991Z",
     "iopub.status.idle": "2024-05-21T11:39:33.932180Z",
     "shell.execute_reply": "2024-05-21T11:39:33.930927Z"
    },
    "papermill": {
     "duration": 0.807944,
     "end_time": "2024-05-21T11:39:33.936247",
     "exception": false,
     "start_time": "2024-05-21T11:39:33.128303",
     "status": "completed"
    },
    "tags": []
   },
   "outputs": [],
   "source": [
    "data_1 = data_1.join(new_df, on='case_id', how='left')"
   ]
  },
  {
   "cell_type": "code",
   "execution_count": 14,
   "id": "0a1a32c4",
   "metadata": {
    "execution": {
     "iopub.execute_input": "2024-05-21T11:39:33.951846Z",
     "iopub.status.busy": "2024-05-21T11:39:33.951430Z",
     "iopub.status.idle": "2024-05-21T11:39:33.955766Z",
     "shell.execute_reply": "2024-05-21T11:39:33.954861Z"
    },
    "papermill": {
     "duration": 0.01522,
     "end_time": "2024-05-21T11:39:33.958454",
     "exception": false,
     "start_time": "2024-05-21T11:39:33.943234",
     "status": "completed"
    },
    "tags": []
   },
   "outputs": [],
   "source": [
    "#data_1_1 = pl.read_csv(dataPath + \"csv_files/train/train_applprev_1_0.csv\").pipe(set_table_dtypes)"
   ]
  },
  {
   "cell_type": "code",
   "execution_count": 15,
   "id": "f1886a2d",
   "metadata": {
    "execution": {
     "iopub.execute_input": "2024-05-21T11:39:33.974287Z",
     "iopub.status.busy": "2024-05-21T11:39:33.973536Z",
     "iopub.status.idle": "2024-05-21T11:39:33.977689Z",
     "shell.execute_reply": "2024-05-21T11:39:33.976810Z"
    },
    "papermill": {
     "duration": 0.014894,
     "end_time": "2024-05-21T11:39:33.980058",
     "exception": false,
     "start_time": "2024-05-21T11:39:33.965164",
     "status": "completed"
    },
    "tags": []
   },
   "outputs": [],
   "source": [
    "#data_1 = data_1.join(data_1_1, on='case_id', how='left')"
   ]
  },
  {
   "cell_type": "code",
   "execution_count": 16,
   "id": "46eb29c4",
   "metadata": {
    "execution": {
     "iopub.execute_input": "2024-05-21T11:39:33.995737Z",
     "iopub.status.busy": "2024-05-21T11:39:33.995000Z",
     "iopub.status.idle": "2024-05-21T11:39:34.012744Z",
     "shell.execute_reply": "2024-05-21T11:39:34.011668Z"
    },
    "papermill": {
     "duration": 0.028247,
     "end_time": "2024-05-21T11:39:34.015250",
     "exception": false,
     "start_time": "2024-05-21T11:39:33.987003",
     "status": "completed"
    },
    "tags": []
   },
   "outputs": [],
   "source": [
    "test_person_1_feats_1 = test_person_1.group_by(\"case_id\").agg(\n",
    "    pl.col(\"mainoccupationinc_384A\").max().alias(\"mainoccupationinc_384A_max\"),\n",
    "    (pl.col(\"incometype_1044T\") == \"SELFEMPLOYED\").max().alias(\"mainoccupationinc_384A_any_selfemployed\")\n",
    ")\n",
    "\n",
    "test_person_1_feats_2 = test_person_1.select([\"case_id\", \"num_group1\", \"housetype_905L\", 'birth_259D', 'sex_738L']).filter(\n",
    "    pl.col(\"num_group1\") == 0\n",
    ").drop(\"num_group1\").rename({\"housetype_905L\": \"person_housetype\"})\n",
    "\n",
    "test_credit_bureau_b_2_feats = test_credit_bureau_b_2.group_by(\"case_id\").agg(\n",
    "    pl.col(\"pmts_pmtsoverdue_635A\").max().alias(\"pmts_pmtsoverdue_635A_max\"),\n",
    "    (pl.col(\"pmts_dpdvalue_108P\") > 31).max().alias(\"pmts_dpdvalue_108P_over31\")\n",
    ")\n",
    "\n",
    "\n",
    "data_submission = test_basetable.join(\n",
    "    test_static.select([\"case_id\"]+selected_static_cols), how=\"left\", on=\"case_id\"\n",
    ").join(\n",
    "    test_static_cb.select([\"case_id\"]+selected_static_cb_cols), how=\"left\", on=\"case_id\"\n",
    ").join(\n",
    "    test_person_1_feats_1, how=\"left\", on=\"case_id\"\n",
    ").join(\n",
    "    test_person_1_feats_2, how=\"left\", on=\"case_id\"\n",
    ").join(\n",
    "    test_credit_bureau_b_2_feats, how=\"left\", on=\"case_id\"\n",
    ")"
   ]
  },
  {
   "cell_type": "code",
   "execution_count": 17,
   "id": "ca4e6c14",
   "metadata": {
    "execution": {
     "iopub.execute_input": "2024-05-21T11:39:34.030206Z",
     "iopub.status.busy": "2024-05-21T11:39:34.029756Z",
     "iopub.status.idle": "2024-05-21T11:40:16.571464Z",
     "shell.execute_reply": "2024-05-21T11:40:16.569828Z"
    },
    "papermill": {
     "duration": 42.554451,
     "end_time": "2024-05-21T11:40:16.576324",
     "exception": false,
     "start_time": "2024-05-21T11:39:34.021873",
     "status": "completed"
    },
    "tags": []
   },
   "outputs": [
    {
     "name": "stdout",
     "output_type": "stream",
     "text": [
      "['amtinstpaidbefduel24m_4187115A', 'annuity_780A', 'annuitynextmonth_57A', 'avginstallast24m_3658937A', 'avglnamtstart24m_4525187A', 'avgoutstandbalancel6m_4187114A', 'avgpmtlast12m_4525200A', 'credamount_770A', 'currdebt_22A', 'currdebtcredtyperange_828A', 'disbursedcredamount_1113A', 'downpmt_116A', 'inittransactionamount_650A', 'lastapprcommoditycat_1041M', 'lastapprcommoditytypec_5251766M', 'lastapprcredamount_781A', 'lastcancelreason_561M', 'lastotherinc_902A', 'lastotherlnsexpense_631A', 'lastrejectcommoditycat_161M', 'lastrejectcommodtypec_5251769M', 'lastrejectcredamount_222A', 'lastrejectreason_759M', 'lastrejectreasonclient_4145040M', 'maininc_215A', 'maxannuity_159A', 'maxannuity_4075009A', 'maxdebt4_972A', 'maxinstallast24m_3658928A', 'maxlnamtstart6m_4525199A', 'maxoutstandbalancel12m_4187113A', 'maxpmtlast3m_4525190A', 'previouscontdistrict_112M', 'price_1097A', 'sumoutstandtotal_3546847A', 'sumoutstandtotalest_4493215A', 'totaldebt_9A', 'totalsettled_863A', 'totinstallast1m_4525188A', 'description_5085714M', 'education_1103M', 'education_88M', 'maritalst_385M', 'maritalst_893M', 'pmtaverage_3A', 'pmtaverage_4527227A', 'pmtaverage_4955615A', 'pmtssum_45A', 'birth_259D', 'sex_738L']\n"
     ]
    }
   ],
   "source": [
    "case_ids = data_1[\"case_id\"].unique().shuffle(seed=1)\n",
    "case_ids_train, case_ids_test = train_test_split(case_ids, train_size=0.6, random_state=1)\n",
    "case_ids_valid, case_ids_test = train_test_split(case_ids_test, train_size=0.5, random_state=1)\n",
    "\n",
    "cols_pred = []\n",
    "for col in data_1.columns:\n",
    "    if col[-1].isupper() and col[:-1].islower():\n",
    "        cols_pred.append(col)\n",
    "\n",
    "print(cols_pred)\n",
    "\n",
    "def from_polars_to_pandas(case_ids: pl.DataFrame) -> pl.DataFrame:\n",
    "    return (\n",
    "        data_1.filter(pl.col(\"case_id\").is_in(case_ids))[[\"case_id\", \"WEEK_NUM\", \"target\"]].to_pandas(),\n",
    "        data_1.filter(pl.col(\"case_id\").is_in(case_ids))[cols_pred].to_pandas(),\n",
    "        data_1.filter(pl.col(\"case_id\").is_in(case_ids))[\"target\"].to_pandas()\n",
    "    )\n",
    "\n",
    "base_train, X_train, y_train = from_polars_to_pandas(case_ids_train)\n",
    "base_valid, X_valid, y_valid = from_polars_to_pandas(case_ids_valid)\n",
    "base_test, X_test, y_test = from_polars_to_pandas(case_ids_test)\n",
    "\n",
    "for df in [X_train, X_valid, X_test]:\n",
    "    df = convert_strings(df)"
   ]
  },
  {
   "cell_type": "code",
   "execution_count": 18,
   "id": "a29b3deb",
   "metadata": {
    "execution": {
     "iopub.execute_input": "2024-05-21T11:40:16.608063Z",
     "iopub.status.busy": "2024-05-21T11:40:16.607533Z",
     "iopub.status.idle": "2024-05-21T11:40:16.621915Z",
     "shell.execute_reply": "2024-05-21T11:40:16.617099Z"
    },
    "papermill": {
     "duration": 0.036103,
     "end_time": "2024-05-21T11:40:16.630457",
     "exception": false,
     "start_time": "2024-05-21T11:40:16.594354",
     "status": "completed"
    },
    "tags": []
   },
   "outputs": [
    {
     "name": "stdout",
     "output_type": "stream",
     "text": [
      "Train: (4954077, 50)\n",
      "Valid: (1647066, 50)\n",
      "Test: (1649254, 50)\n"
     ]
    }
   ],
   "source": [
    "print(f\"Train: {X_train.shape}\")\n",
    "print(f\"Valid: {X_valid.shape}\")\n",
    "print(f\"Test: {X_test.shape}\")"
   ]
  },
  {
   "cell_type": "code",
   "execution_count": 19,
   "id": "35c529d5",
   "metadata": {
    "execution": {
     "iopub.execute_input": "2024-05-21T11:40:16.667950Z",
     "iopub.status.busy": "2024-05-21T11:40:16.666867Z",
     "iopub.status.idle": "2024-05-21T11:46:57.482041Z",
     "shell.execute_reply": "2024-05-21T11:46:57.480815Z"
    },
    "papermill": {
     "duration": 400.837969,
     "end_time": "2024-05-21T11:46:57.484711",
     "exception": false,
     "start_time": "2024-05-21T11:40:16.646742",
     "status": "completed"
    },
    "tags": []
   },
   "outputs": [
    {
     "name": "stderr",
     "output_type": "stream",
     "text": [
      "/opt/conda/lib/python3.10/site-packages/lightgbm/engine.py:172: UserWarning: Found `n_estimators` in params. Will use it instead of argument\n",
      "  _log_warning(f\"Found `{alias}` in params. Will use it instead of argument\")\n"
     ]
    },
    {
     "name": "stdout",
     "output_type": "stream",
     "text": [
      "Training until validation scores don't improve for 10 rounds\n",
      "[50]\tvalid_0's auc: 0.733711\n",
      "[100]\tvalid_0's auc: 0.750474\n",
      "[150]\tvalid_0's auc: 0.758844\n",
      "[200]\tvalid_0's auc: 0.763058\n",
      "[250]\tvalid_0's auc: 0.766041\n",
      "[300]\tvalid_0's auc: 0.768492\n",
      "[350]\tvalid_0's auc: 0.770067\n",
      "[400]\tvalid_0's auc: 0.771416\n",
      "[450]\tvalid_0's auc: 0.772723\n",
      "[500]\tvalid_0's auc: 0.773944\n",
      "[550]\tvalid_0's auc: 0.774683\n",
      "[600]\tvalid_0's auc: 0.775582\n",
      "[650]\tvalid_0's auc: 0.776552\n",
      "[700]\tvalid_0's auc: 0.777121\n",
      "Early stopping, best iteration is:\n",
      "[716]\tvalid_0's auc: 0.777293\n"
     ]
    }
   ],
   "source": [
    "lgb_train = lgb.Dataset(X_train, label=y_train)\n",
    "lgb_valid = lgb.Dataset(X_valid, label=y_valid, reference=lgb_train)\n",
    "\n",
    "params = {\n",
    "    \"boosting_type\": \"gbdt\",\n",
    "    \"objective\": \"binary\",\n",
    "    \"metric\": \"auc\",\n",
    "    \"max_depth\": 3,\n",
    "    \"num_leaves\": 31,\n",
    "    \"learning_rate\": 0.05,\n",
    "    \"feature_fraction\": 0.9,\n",
    "    \"bagging_fraction\": 0.8,\n",
    "    \"bagging_freq\": 5,\n",
    "    \"n_estimators\": 1000,\n",
    "    \"verbose\": -1,\n",
    "}\n",
    "\n",
    "gbm = lgb.train(\n",
    "    params,\n",
    "    lgb_train,\n",
    "    valid_sets=lgb_valid,\n",
    "    callbacks=[lgb.log_evaluation(50), lgb.early_stopping(10)]\n",
    ")"
   ]
  },
  {
   "cell_type": "code",
   "execution_count": 20,
   "id": "d0eb2b1c",
   "metadata": {
    "execution": {
     "iopub.execute_input": "2024-05-21T11:46:57.502862Z",
     "iopub.status.busy": "2024-05-21T11:46:57.502476Z",
     "iopub.status.idle": "2024-05-21T11:48:43.933644Z",
     "shell.execute_reply": "2024-05-21T11:48:43.932168Z"
    },
    "papermill": {
     "duration": 106.443058,
     "end_time": "2024-05-21T11:48:43.936151",
     "exception": false,
     "start_time": "2024-05-21T11:46:57.493093",
     "status": "completed"
    },
    "tags": []
   },
   "outputs": [
    {
     "name": "stdout",
     "output_type": "stream",
     "text": [
      "The AUC score on the train set is: 0.7958105236951135\n",
      "The AUC score on the valid set is: 0.7772934153066909\n",
      "The AUC score on the test set is: 0.7767598446569902\n"
     ]
    }
   ],
   "source": [
    "for base, X in [(base_train, X_train), (base_valid, X_valid), (base_test, X_test)]:\n",
    "    y_pred = gbm.predict(X, num_iteration=gbm.best_iteration)\n",
    "    base[\"score\"] = y_pred\n",
    "\n",
    "print(f'The AUC score on the train set is: {roc_auc_score(base_train[\"target\"], base_train[\"score\"])}') \n",
    "print(f'The AUC score on the valid set is: {roc_auc_score(base_valid[\"target\"], base_valid[\"score\"])}') \n",
    "print(f'The AUC score on the test set is: {roc_auc_score(base_test[\"target\"], base_test[\"score\"])}')"
   ]
  },
  {
   "cell_type": "code",
   "execution_count": 21,
   "id": "f0987ae1",
   "metadata": {
    "execution": {
     "iopub.execute_input": "2024-05-21T11:48:43.954792Z",
     "iopub.status.busy": "2024-05-21T11:48:43.954375Z",
     "iopub.status.idle": "2024-05-21T11:48:47.396029Z",
     "shell.execute_reply": "2024-05-21T11:48:47.394832Z"
    },
    "papermill": {
     "duration": 3.453786,
     "end_time": "2024-05-21T11:48:47.398382",
     "exception": false,
     "start_time": "2024-05-21T11:48:43.944596",
     "status": "completed"
    },
    "tags": []
   },
   "outputs": [
    {
     "name": "stdout",
     "output_type": "stream",
     "text": [
      "The stability score on the train set is: 0.5580972597209821\n",
      "The stability score on the valid set is: 0.5185650979286517\n",
      "The stability score on the test set is: 0.5095113536170962\n"
     ]
    }
   ],
   "source": [
    "def gini_stability(base, w_fallingrate=88.0, w_resstd=-0.5):\n",
    "    gini_in_time = base.loc[:, [\"WEEK_NUM\", \"target\", \"score\"]]\\\n",
    "        .sort_values(\"WEEK_NUM\")\\\n",
    "        .groupby(\"WEEK_NUM\")[[\"target\", \"score\"]]\\\n",
    "        .apply(lambda x: 2*roc_auc_score(x[\"target\"], x[\"score\"])-1).tolist()\n",
    "    \n",
    "    x = np.arange(len(gini_in_time))\n",
    "    y = gini_in_time\n",
    "    a, b = np.polyfit(x, y, 1)\n",
    "    y_hat = a*x + b\n",
    "    residuals = y - y_hat\n",
    "    res_std = np.std(residuals)\n",
    "    avg_gini = np.mean(gini_in_time)\n",
    "    return avg_gini + w_fallingrate * min(0, a) + w_resstd * res_std\n",
    "\n",
    "stability_score_train = gini_stability(base_train)\n",
    "stability_score_valid = gini_stability(base_valid)\n",
    "stability_score_test = gini_stability(base_test)\n",
    "\n",
    "print(f'The stability score on the train set is: {stability_score_train}') \n",
    "print(f'The stability score on the valid set is: {stability_score_valid}') \n",
    "print(f'The stability score on the test set is: {stability_score_test}')  "
   ]
  },
  {
   "cell_type": "code",
   "execution_count": 22,
   "id": "7866a241",
   "metadata": {
    "execution": {
     "iopub.execute_input": "2024-05-21T11:48:47.416441Z",
     "iopub.status.busy": "2024-05-21T11:48:47.416077Z",
     "iopub.status.idle": "2024-05-21T11:48:47.797472Z",
     "shell.execute_reply": "2024-05-21T11:48:47.796056Z"
    },
    "papermill": {
     "duration": 0.393808,
     "end_time": "2024-05-21T11:48:47.800291",
     "exception": false,
     "start_time": "2024-05-21T11:48:47.406483",
     "status": "completed"
    },
    "tags": []
   },
   "outputs": [],
   "source": [
    "X_submission = data_submission[cols_pred].to_pandas()\n",
    "X_submission = convert_strings(X_submission)\n",
    "categorical_cols = X_train.select_dtypes(include=['category']).columns\n",
    "\n",
    "for col in categorical_cols:\n",
    "    train_categories = set(X_train[col].cat.categories)\n",
    "    submission_categories = set(X_submission[col].cat.categories)\n",
    "    new_categories = submission_categories - train_categories\n",
    "    X_submission.loc[X_submission[col].isin(new_categories), col] = \"Unknown\"\n",
    "    new_dtype = pd.CategoricalDtype(categories=train_categories, ordered=True)\n",
    "    X_train[col] = X_train[col].astype(new_dtype)\n",
    "    X_submission[col] = X_submission[col].astype(new_dtype)\n",
    "\n",
    "y_submission_pred = gbm.predict(X_submission, num_iteration=gbm.best_iteration)"
   ]
  },
  {
   "cell_type": "code",
   "execution_count": 23,
   "id": "ee47efed",
   "metadata": {
    "execution": {
     "iopub.execute_input": "2024-05-21T11:48:47.819758Z",
     "iopub.status.busy": "2024-05-21T11:48:47.819289Z",
     "iopub.status.idle": "2024-05-21T11:48:47.835630Z",
     "shell.execute_reply": "2024-05-21T11:48:47.834060Z"
    },
    "papermill": {
     "duration": 0.029608,
     "end_time": "2024-05-21T11:48:47.838384",
     "exception": false,
     "start_time": "2024-05-21T11:48:47.808776",
     "status": "completed"
    },
    "tags": []
   },
   "outputs": [],
   "source": [
    "submission = pd.DataFrame({\n",
    "    \"case_id\": data_submission[\"case_id\"].to_numpy(),\n",
    "    \"score\": y_submission_pred\n",
    "}).set_index('case_id')\n",
    "submission.to_csv(\"./submission.csv\")"
   ]
  }
 ],
 "metadata": {
  "kaggle": {
   "accelerator": "none",
   "dataSources": [
    {
     "databundleVersionId": 7921029,
     "sourceId": 50160,
     "sourceType": "competition"
    }
   ],
   "dockerImageVersionId": 30698,
   "isGpuEnabled": false,
   "isInternetEnabled": false,
   "language": "python",
   "sourceType": "notebook"
  },
  "kernelspec": {
   "display_name": "Python 3",
   "language": "python",
   "name": "python3"
  },
  "language_info": {
   "codemirror_mode": {
    "name": "ipython",
    "version": 3
   },
   "file_extension": ".py",
   "mimetype": "text/x-python",
   "name": "python",
   "nbconvert_exporter": "python",
   "pygments_lexer": "ipython3",
   "version": "3.10.13"
  },
  "papermill": {
   "default_parameters": {},
   "duration": 639.048141,
   "end_time": "2024-05-21T11:48:50.571652",
   "environment_variables": {},
   "exception": null,
   "input_path": "__notebook__.ipynb",
   "output_path": "__notebook__.ipynb",
   "parameters": {},
   "start_time": "2024-05-21T11:38:11.523511",
   "version": "2.5.0"
  }
 },
 "nbformat": 4,
 "nbformat_minor": 5
}
